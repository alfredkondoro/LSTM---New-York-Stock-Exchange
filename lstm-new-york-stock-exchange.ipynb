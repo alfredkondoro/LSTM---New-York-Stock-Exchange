{
 "cells": [
  {
   "cell_type": "code",
   "execution_count": 1,
   "id": "e4034d01",
   "metadata": {
    "_cell_guid": "b1076dfc-b9ad-4769-8c92-a6c4dae69d19",
    "_uuid": "8f2839f25d086af736a60e9eeb907d3b93b6e0e5",
    "execution": {
     "iopub.execute_input": "2024-05-11T15:37:32.674926Z",
     "iopub.status.busy": "2024-05-11T15:37:32.674410Z",
     "iopub.status.idle": "2024-05-11T15:37:49.286853Z",
     "shell.execute_reply": "2024-05-11T15:37:49.285573Z"
    },
    "papermill": {
     "duration": 16.622968,
     "end_time": "2024-05-11T15:37:49.290049",
     "exception": false,
     "start_time": "2024-05-11T15:37:32.667081",
     "status": "completed"
    },
    "tags": []
   },
   "outputs": [
    {
     "name": "stderr",
     "output_type": "stream",
     "text": [
      "2024-05-11 15:37:37.142092: E external/local_xla/xla/stream_executor/cuda/cuda_dnn.cc:9261] Unable to register cuDNN factory: Attempting to register factory for plugin cuDNN when one has already been registered\n",
      "2024-05-11 15:37:37.142228: E external/local_xla/xla/stream_executor/cuda/cuda_fft.cc:607] Unable to register cuFFT factory: Attempting to register factory for plugin cuFFT when one has already been registered\n",
      "2024-05-11 15:37:37.280979: E external/local_xla/xla/stream_executor/cuda/cuda_blas.cc:1515] Unable to register cuBLAS factory: Attempting to register factory for plugin cuBLAS when one has already been registered\n"
     ]
    }
   ],
   "source": [
    "# Importing Libraries\n",
    "import pandas as pd\n",
    "import numpy as np\n",
    "from sklearn.preprocessing import MinMaxScaler\n",
    "from tensorflow.keras.models import Sequential\n",
    "from tensorflow.keras.layers import LSTM, Dense\n",
    "import matplotlib.pyplot as plt"
   ]
  },
  {
   "cell_type": "code",
   "execution_count": 2,
   "id": "b8033c08",
   "metadata": {
    "execution": {
     "iopub.execute_input": "2024-05-11T15:37:49.301294Z",
     "iopub.status.busy": "2024-05-11T15:37:49.300466Z",
     "iopub.status.idle": "2024-05-11T15:37:51.171384Z",
     "shell.execute_reply": "2024-05-11T15:37:51.170043Z"
    },
    "papermill": {
     "duration": 1.879711,
     "end_time": "2024-05-11T15:37:51.174485",
     "exception": false,
     "start_time": "2024-05-11T15:37:49.294774",
     "status": "completed"
    },
    "tags": []
   },
   "outputs": [
    {
     "data": {
      "text/html": [
       "<div>\n",
       "<style scoped>\n",
       "    .dataframe tbody tr th:only-of-type {\n",
       "        vertical-align: middle;\n",
       "    }\n",
       "\n",
       "    .dataframe tbody tr th {\n",
       "        vertical-align: top;\n",
       "    }\n",
       "\n",
       "    .dataframe thead th {\n",
       "        text-align: right;\n",
       "    }\n",
       "</style>\n",
       "<table border=\"1\" class=\"dataframe\">\n",
       "  <thead>\n",
       "    <tr style=\"text-align: right;\">\n",
       "      <th></th>\n",
       "      <th>date</th>\n",
       "      <th>symbol</th>\n",
       "      <th>open</th>\n",
       "      <th>close</th>\n",
       "      <th>low</th>\n",
       "      <th>high</th>\n",
       "      <th>volume</th>\n",
       "    </tr>\n",
       "  </thead>\n",
       "  <tbody>\n",
       "    <tr>\n",
       "      <th>0</th>\n",
       "      <td>2016-01-05 00:00:00</td>\n",
       "      <td>WLTW</td>\n",
       "      <td>123.430000</td>\n",
       "      <td>125.839996</td>\n",
       "      <td>122.309998</td>\n",
       "      <td>126.250000</td>\n",
       "      <td>2163600.0</td>\n",
       "    </tr>\n",
       "    <tr>\n",
       "      <th>1</th>\n",
       "      <td>2016-01-06 00:00:00</td>\n",
       "      <td>WLTW</td>\n",
       "      <td>125.239998</td>\n",
       "      <td>119.980003</td>\n",
       "      <td>119.940002</td>\n",
       "      <td>125.540001</td>\n",
       "      <td>2386400.0</td>\n",
       "    </tr>\n",
       "    <tr>\n",
       "      <th>2</th>\n",
       "      <td>2016-01-07 00:00:00</td>\n",
       "      <td>WLTW</td>\n",
       "      <td>116.379997</td>\n",
       "      <td>114.949997</td>\n",
       "      <td>114.930000</td>\n",
       "      <td>119.739998</td>\n",
       "      <td>2489500.0</td>\n",
       "    </tr>\n",
       "    <tr>\n",
       "      <th>3</th>\n",
       "      <td>2016-01-08 00:00:00</td>\n",
       "      <td>WLTW</td>\n",
       "      <td>115.480003</td>\n",
       "      <td>116.620003</td>\n",
       "      <td>113.500000</td>\n",
       "      <td>117.440002</td>\n",
       "      <td>2006300.0</td>\n",
       "    </tr>\n",
       "    <tr>\n",
       "      <th>4</th>\n",
       "      <td>2016-01-11 00:00:00</td>\n",
       "      <td>WLTW</td>\n",
       "      <td>117.010002</td>\n",
       "      <td>114.970001</td>\n",
       "      <td>114.089996</td>\n",
       "      <td>117.330002</td>\n",
       "      <td>1408600.0</td>\n",
       "    </tr>\n",
       "  </tbody>\n",
       "</table>\n",
       "</div>"
      ],
      "text/plain": [
       "                  date symbol        open       close         low        high  \\\n",
       "0  2016-01-05 00:00:00   WLTW  123.430000  125.839996  122.309998  126.250000   \n",
       "1  2016-01-06 00:00:00   WLTW  125.239998  119.980003  119.940002  125.540001   \n",
       "2  2016-01-07 00:00:00   WLTW  116.379997  114.949997  114.930000  119.739998   \n",
       "3  2016-01-08 00:00:00   WLTW  115.480003  116.620003  113.500000  117.440002   \n",
       "4  2016-01-11 00:00:00   WLTW  117.010002  114.970001  114.089996  117.330002   \n",
       "\n",
       "      volume  \n",
       "0  2163600.0  \n",
       "1  2386400.0  \n",
       "2  2489500.0  \n",
       "3  2006300.0  \n",
       "4  1408600.0  "
      ]
     },
     "execution_count": 2,
     "metadata": {},
     "output_type": "execute_result"
    }
   ],
   "source": [
    "# Loading Data\n",
    "df = pd.read_csv(\"/kaggle/input/nyse/prices.csv\")\n",
    "df.head(5)"
   ]
  },
  {
   "cell_type": "code",
   "execution_count": 3,
   "id": "1c633be9",
   "metadata": {
    "execution": {
     "iopub.execute_input": "2024-05-11T15:37:51.186640Z",
     "iopub.status.busy": "2024-05-11T15:37:51.186212Z",
     "iopub.status.idle": "2024-05-11T15:37:51.195687Z",
     "shell.execute_reply": "2024-05-11T15:37:51.194156Z"
    },
    "papermill": {
     "duration": 0.019014,
     "end_time": "2024-05-11T15:37:51.198796",
     "exception": false,
     "start_time": "2024-05-11T15:37:51.179782",
     "status": "completed"
    },
    "tags": []
   },
   "outputs": [
    {
     "data": {
      "text/plain": [
       "array([[125.839996],\n",
       "       [119.980003],\n",
       "       [114.949997],\n",
       "       ...,\n",
       "       [ 53.529999],\n",
       "       [ 45.450001],\n",
       "       [ 53.630001]])"
      ]
     },
     "execution_count": 3,
     "metadata": {},
     "output_type": "execute_result"
    }
   ],
   "source": [
    "stock_prices = df['close'].values.reshape(-1, 1)\n",
    "stock_prices"
   ]
  },
  {
   "cell_type": "code",
   "execution_count": 4,
   "id": "ed6f8716",
   "metadata": {
    "execution": {
     "iopub.execute_input": "2024-05-11T15:37:51.212823Z",
     "iopub.status.busy": "2024-05-11T15:37:51.212289Z",
     "iopub.status.idle": "2024-05-11T15:37:51.229507Z",
     "shell.execute_reply": "2024-05-11T15:37:51.227973Z"
    },
    "papermill": {
     "duration": 0.028425,
     "end_time": "2024-05-11T15:37:51.233015",
     "exception": false,
     "start_time": "2024-05-11T15:37:51.204590",
     "status": "completed"
    },
    "tags": []
   },
   "outputs": [],
   "source": [
    "# Normalizing Data\n",
    "scaler = MinMaxScaler(feature_range=(0, 1))\n",
    "stock_prices_normalized = scaler.fit_transform(stock_prices)"
   ]
  },
  {
   "cell_type": "code",
   "execution_count": 5,
   "id": "9be05478",
   "metadata": {
    "execution": {
     "iopub.execute_input": "2024-05-11T15:37:51.246366Z",
     "iopub.status.busy": "2024-05-11T15:37:51.245886Z",
     "iopub.status.idle": "2024-05-11T15:37:53.387143Z",
     "shell.execute_reply": "2024-05-11T15:37:53.385696Z"
    },
    "papermill": {
     "duration": 2.152125,
     "end_time": "2024-05-11T15:37:53.390560",
     "exception": false,
     "start_time": "2024-05-11T15:37:51.238435",
     "status": "completed"
    },
    "tags": []
   },
   "outputs": [],
   "source": [
    "# Preparing Data for LSTM\n",
    "X, y = [], []\n",
    "for i in range(len(stock_prices_normalized) - 60):\n",
    "    X.append(stock_prices_normalized[i:i + 60, 0])\n",
    "    y.append(stock_prices_normalized[i + 60, 0])\n",
    "X, y = np.array(X), np.array(y)"
   ]
  },
  {
   "cell_type": "code",
   "execution_count": 6,
   "id": "c895f453",
   "metadata": {
    "execution": {
     "iopub.execute_input": "2024-05-11T15:37:53.408083Z",
     "iopub.status.busy": "2024-05-11T15:37:53.407678Z",
     "iopub.status.idle": "2024-05-11T15:37:53.413406Z",
     "shell.execute_reply": "2024-05-11T15:37:53.412076Z"
    },
    "papermill": {
     "duration": 0.016667,
     "end_time": "2024-05-11T15:37:53.417115",
     "exception": false,
     "start_time": "2024-05-11T15:37:53.400448",
     "status": "completed"
    },
    "tags": []
   },
   "outputs": [],
   "source": [
    "# Reshaping Data for LSTM\n",
    "X = np.reshape(X, (X.shape[0], X.shape[1], 1))"
   ]
  },
  {
   "cell_type": "code",
   "execution_count": 7,
   "id": "2eb6b963",
   "metadata": {
    "execution": {
     "iopub.execute_input": "2024-05-11T15:37:53.432004Z",
     "iopub.status.busy": "2024-05-11T15:37:53.430155Z",
     "iopub.status.idle": "2024-05-11T19:27:25.679382Z",
     "shell.execute_reply": "2024-05-11T19:27:25.678048Z"
    },
    "papermill": {
     "duration": 13772.259085,
     "end_time": "2024-05-11T19:27:25.681935",
     "exception": false,
     "start_time": "2024-05-11T15:37:53.422850",
     "status": "completed"
    },
    "tags": []
   },
   "outputs": [
    {
     "name": "stderr",
     "output_type": "stream",
     "text": [
      "/opt/conda/lib/python3.10/site-packages/keras/src/layers/rnn/rnn.py:204: UserWarning: Do not pass an `input_shape`/`input_dim` argument to a layer. When using Sequential models, prefer using an `Input(shape)` object as the first layer in the model instead.\n",
      "  super().__init__(**kwargs)\n"
     ]
    },
    {
     "name": "stdout",
     "output_type": "stream",
     "text": [
      "Epoch 1/10\n",
      "\u001b[1m26601/26601\u001b[0m \u001b[32m━━━━━━━━━━━━━━━━━━━━\u001b[0m\u001b[37m\u001b[0m \u001b[1m1511s\u001b[0m 57ms/step - loss: 0.0028\n",
      "Epoch 2/10\n",
      "\u001b[1m26601/26601\u001b[0m \u001b[32m━━━━━━━━━━━━━━━━━━━━\u001b[0m\u001b[37m\u001b[0m \u001b[1m1347s\u001b[0m 51ms/step - loss: 0.0025\n",
      "Epoch 3/10\n",
      "\u001b[1m26601/26601\u001b[0m \u001b[32m━━━━━━━━━━━━━━━━━━━━\u001b[0m\u001b[37m\u001b[0m \u001b[1m1507s\u001b[0m 57ms/step - loss: 6.7965e-04\n",
      "Epoch 4/10\n",
      "\u001b[1m26601/26601\u001b[0m \u001b[32m━━━━━━━━━━━━━━━━━━━━\u001b[0m\u001b[37m\u001b[0m \u001b[1m1489s\u001b[0m 56ms/step - loss: 2.3120e-04\n",
      "Epoch 5/10\n",
      "\u001b[1m26601/26601\u001b[0m \u001b[32m━━━━━━━━━━━━━━━━━━━━\u001b[0m\u001b[37m\u001b[0m \u001b[1m1501s\u001b[0m 56ms/step - loss: 1.3495e-04\n",
      "Epoch 6/10\n",
      "\u001b[1m26601/26601\u001b[0m \u001b[32m━━━━━━━━━━━━━━━━━━━━\u001b[0m\u001b[37m\u001b[0m \u001b[1m1542s\u001b[0m 58ms/step - loss: 1.1093e-04\n",
      "Epoch 7/10\n",
      "\u001b[1m26601/26601\u001b[0m \u001b[32m━━━━━━━━━━━━━━━━━━━━\u001b[0m\u001b[37m\u001b[0m \u001b[1m1365s\u001b[0m 51ms/step - loss: 8.8670e-05\n",
      "Epoch 8/10\n",
      "\u001b[1m26601/26601\u001b[0m \u001b[32m━━━━━━━━━━━━━━━━━━━━\u001b[0m\u001b[37m\u001b[0m \u001b[1m1167s\u001b[0m 44ms/step - loss: 7.5295e-05\n",
      "Epoch 9/10\n",
      "\u001b[1m26601/26601\u001b[0m \u001b[32m━━━━━━━━━━━━━━━━━━━━\u001b[0m\u001b[37m\u001b[0m \u001b[1m1163s\u001b[0m 44ms/step - loss: 6.4761e-05\n",
      "Epoch 10/10\n",
      "\u001b[1m26601/26601\u001b[0m \u001b[32m━━━━━━━━━━━━━━━━━━━━\u001b[0m\u001b[37m\u001b[0m \u001b[1m1180s\u001b[0m 44ms/step - loss: 5.8208e-05\n"
     ]
    },
    {
     "data": {
      "text/plain": [
       "<keras.src.callbacks.history.History at 0x7ca3be0f6ad0>"
      ]
     },
     "execution_count": 7,
     "metadata": {},
     "output_type": "execute_result"
    }
   ],
   "source": [
    "# Building and Training the LSTM Model\n",
    "model = Sequential()\n",
    "model.add(LSTM(units=50, return_sequences=True, input_shape=(X.shape[1], 1)))\n",
    "model.add(LSTM(units=50, return_sequences=False))\n",
    "model.add(Dense(units=25))\n",
    "model.add(Dense(units=1))\n",
    "model.compile(optimizer='adam', loss='mean_squared_error')\n",
    "model.fit(X, y, epochs=10, batch_size=32)"
   ]
  },
  {
   "cell_type": "code",
   "execution_count": 8,
   "id": "2ab1c3d3",
   "metadata": {
    "execution": {
     "iopub.execute_input": "2024-05-11T19:28:09.538376Z",
     "iopub.status.busy": "2024-05-11T19:28:09.537877Z",
     "iopub.status.idle": "2024-05-11T19:35:28.495657Z",
     "shell.execute_reply": "2024-05-11T19:35:28.494370Z"
    },
    "papermill": {
     "duration": 460.841588,
     "end_time": "2024-05-11T19:35:28.498973",
     "exception": false,
     "start_time": "2024-05-11T19:27:47.657385",
     "status": "completed"
    },
    "tags": []
   },
   "outputs": [
    {
     "name": "stdout",
     "output_type": "stream",
     "text": [
      "\u001b[1m26601/26601\u001b[0m \u001b[32m━━━━━━━━━━━━━━━━━━━━\u001b[0m\u001b[37m\u001b[0m \u001b[1m423s\u001b[0m 16ms/step\n"
     ]
    }
   ],
   "source": [
    "# Making Predictions\n",
    "predictions = model.predict(X)"
   ]
  },
  {
   "cell_type": "code",
   "execution_count": 9,
   "id": "8757f4f3",
   "metadata": {
    "execution": {
     "iopub.execute_input": "2024-05-11T19:36:13.980875Z",
     "iopub.status.busy": "2024-05-11T19:36:13.980367Z",
     "iopub.status.idle": "2024-05-11T19:36:13.991483Z",
     "shell.execute_reply": "2024-05-11T19:36:13.990458Z"
    },
    "papermill": {
     "duration": 22.916629,
     "end_time": "2024-05-11T19:36:13.994215",
     "exception": false,
     "start_time": "2024-05-11T19:35:51.077586",
     "status": "completed"
    },
    "tags": []
   },
   "outputs": [],
   "source": [
    "# Denormalizing Predictions\n",
    "predictions_denormalized = scaler.inverse_transform(predictions)"
   ]
  },
  {
   "cell_type": "code",
   "execution_count": 10,
   "id": "21ee3bbb",
   "metadata": {
    "execution": {
     "iopub.execute_input": "2024-05-11T19:36:59.801248Z",
     "iopub.status.busy": "2024-05-11T19:36:59.800694Z",
     "iopub.status.idle": "2024-05-11T19:37:27.846221Z",
     "shell.execute_reply": "2024-05-11T19:37:27.844863Z"
    },
    "papermill": {
     "duration": 51.062431,
     "end_time": "2024-05-11T19:37:27.849321",
     "exception": false,
     "start_time": "2024-05-11T19:36:36.786890",
     "status": "completed"
    },
    "tags": []
   },
   "outputs": [
    {
     "data": {
      "image/png": "[encoded data removed]",
      "text/plain": [
       "<Figure size 640x480 with 1 Axes>"
      ]
     },
     "metadata": {},
     "output_type": "display_data"
    }
   ],
   "source": [
    "# Plotting Results\n",
    "plt.plot(df['date'][60:], stock_prices[60:], label='Actual Stock Prices')\n",
    "plt.plot(df['date'][60:], predictions_denormalized, label='Predicted Stock Prices')\n",
    "plt.legend()\n",
    "plt.show()"
   ]
  }
 ],
 "metadata": {
  "kaggle": {
   "accelerator": "none",
   "dataSources": [
    {
     "datasetId": 854,
     "sourceId": 1575,
     "sourceType": "datasetVersion"
    }
   ],
   "dockerImageVersionId": 30698,
   "isGpuEnabled": false,
   "isInternetEnabled": true,
   "language": "python",
   "sourceType": "notebook"
  },
  "kernelspec": {
   "display_name": "Python 3",
   "language": "python",
   "name": "python3"
  },
  "language_info": {
   "codemirror_mode": {
    "name": "ipython",
    "version": 3
   },
   "file_extension": ".py",
   "mimetype": "text/x-python",
   "name": "python",
   "nbconvert_exporter": "python",
   "pygments_lexer": "ipython3",
   "version": "3.10.13"
  },
  "papermill": {
   "default_parameters": {},
   "duration": 14423.728781,
   "end_time": "2024-05-11T19:37:53.308092",
   "environment_variables": {},
   "exception": null,
   "input_path": "__notebook__.ipynb",
   "output_path": "__notebook__.ipynb",
   "parameters": {},
   "start_time": "2024-05-11T15:37:29.579311",
   "version": "2.5.0"
  }
 },
 "nbformat": 4,
 "nbformat_minor": 5
}
